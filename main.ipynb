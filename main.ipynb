{
 "cells": [
  {
   "cell_type": "code",
   "execution_count": 139,
   "metadata": {
    "collapsed": true
   },
   "outputs": [],
   "source": [
    "import random\n",
    "import cv2\n",
    "import numpy as np\n",
    "\n",
    "def linked_points(size,nb_points,nb_linked_points) :\n",
    "    rows,cols = size\n",
    "    img = np.full((rows,cols,3),0,dtype=np.uint8)\n",
    "    points = np.full((nb_points,2),0)\n",
    "    for i in range(nb_points) :\n",
    "        points[i] = [random.randint(-10,rows+10),random.randint(-10,cols+10)]\n",
    "    for i in range(0,nb_points,nb_linked_points) :\n",
    "        if i+nb_linked_points<nb_points :\n",
    "            for j in range(i,i+nb_linked_points-1) :\n",
    "                x,y = points[j]\n",
    "                x2,y2 = points[j+1]\n",
    "                cv2.line(img,(x,y),(x2,y2),[random.randint(0,255),random.randint(0,255),random.randint(0,255)])\n",
    "    cv2.imshow(\"Image\",img)\n",
    "    cv2.waitKey(0)\n",
    "    cv2.destroyAllWindows()\n",
    "    cv2.imwrite(\"pp.jpg\",img)"
   ]
  },
  {
   "cell_type": "code",
   "execution_count": 140,
   "outputs": [],
   "source": [
    "linked_points((800,800),2500,4)"
   ],
   "metadata": {
    "collapsed": false,
    "pycharm": {
     "name": "#%%\n"
    }
   }
  }
 ],
 "metadata": {
  "kernelspec": {
   "display_name": "Python 3",
   "language": "python",
   "name": "python3"
  },
  "language_info": {
   "codemirror_mode": {
    "name": "ipython",
    "version": 2
   },
   "file_extension": ".py",
   "mimetype": "text/x-python",
   "name": "python",
   "nbconvert_exporter": "python",
   "pygments_lexer": "ipython2",
   "version": "2.7.6"
  }
 },
 "nbformat": 4,
 "nbformat_minor": 0
}